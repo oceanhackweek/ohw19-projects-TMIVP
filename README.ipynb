{
 "cells": [
  {
   "cell_type": "markdown",
   "metadata": {},
   "source": [
    "<h1><center>TMIFVP</center></h1>\n",
    "\n",
    "***\n",
    "\n",
    "<h1><center>TMI for Fun Vertical Profiles</center></h1>\n",
    "\n",
    "\n",
    "<h1><center>or</center></h1>\n",
    "\n",
    "<h1><center>Template Matching to Identify Features in Vertical Profiles</center></h1>\n",
    "\n",
    "***"
   ]
  },
  {
   "cell_type": "markdown",
   "metadata": {},
   "source": [
    "#### Collaborators\n",
    "Anna-Lena Deppenmeier: NCAR\n",
    "\n",
    "Daniel Wang: Virginia Institute of Marine Science, William & Mary\n",
    "\n",
    "Karina Ramos Musalem: University of British Columbia\n",
    "\n",
    "Kathy Gunn: University of Miami\n",
    "\n",
    "Paige Lavin: University of Washington\n",
    "\n",
    "\n",
    "Regina Lionheart: University of Washington\n",
    "\n",
    "***"
   ]
  },
  {
   "cell_type": "markdown",
   "metadata": {},
   "source": [
    "### The Problem\n",
    "\n",
    "Interested in finding a specific feature in your depth profiles? Want to know where those features are clustered? Then TMIVP, built upon the ideas of the visionary non-conformist demigod Procrustes, is for you. \n",
    "\n",
    "Between unpredictable mixed layer temperature profiles, various clines, and nutrient spikes, understanding and searching through CTD profiles (along with other types of profile graphs) are a persistant issue in environmental science. TMIVP aims to match and quantify the difference between a template profile and user-submitted data, clearly highlighting features for quality matching scores and location of problematic or interesting attributes. More broadly, this pipeline could be used to analyze and compare many types of graphs and profiles, including but not limited to:\n",
    "\n",
    "+ Michaelis-Menten population curves to characterize population growth\n",
    "+ Metabolomic and proteomic spectrographic peaks to understand analytical drift, matrix effects and other obscuring variations\n",
    "+ Environmental time series data to identify outliers\n",
    "\n",
    "Below, our cut-to-fit-the-bed template matching pipeline.\n",
    "\n",
    "***"
   ]
  },
  {
   "cell_type": "markdown",
   "metadata": {},
   "source": [
    "### The Solution\n",
    "\n",
    "*This needs to be expanded upon once we have more specifics*\n",
    "\n",
    "Our group used the principles of cross-correlation to vertically search profiles and match features to a template.\n",
    "\n",
    "<span style=\"color:red\">**WHY THIS KIND OF TEMPLATE? WHAT'S THE JUSTIFICATION?**</span>\n",
    "\n",
    "***"
   ]
  },
  {
   "cell_type": "markdown",
   "metadata": {},
   "source": [
    "### Steps to Achieve Profile Nirvana\n",
    "#### 1. User provides two 1-dimensional arrays to the interface, one of which is temperature (for the purpose of this example; multiple variables are possible) and the other depth. Those two arrays are returned as a table and visualized profiles. \n",
    "<span style=\"color:red\">**CHECK THAT THIS IS TRUE, SET UP FUNCTION TO DO SO.** </span>\n"
   ]
  },
  {
   "cell_type": "markdown",
   "metadata": {},
   "source": [
    "*Example Table and Graph*\n",
    "\n",
    "Depth = y | Temperature = x\n",
    "--- | --- \n",
    "5  | 29.66  \n",
    "23 | 27.62\n",
    "32 | 24.81   \n",
    "50 | 22.81   \n",
    "59 | 21.58 \n",
    "68 | 21.15 \n",
    "77 | 20.38 "
   ]
  },
  {
   "cell_type": "markdown",
   "metadata": {},
   "source": [
    "\n",
    "\n",
    "!<center>![Text here](data/haifa_depth.png)</center>\n"
   ]
  },
  {
   "cell_type": "markdown",
   "metadata": {},
   "source": [
    "#### 2. TMIFVP provides a \"template\" shape that has typical numbers and dimensions for an oceanographic profile. This will act as a pattern matching feature for real data. \n",
    "\n",
    "* <span style=\"color:red\">**TEMPLATE SHOULD BE SMALLER- ADD JUSTIFY** </span>\n",
    "\n",
    "* <span style=\"color:red\">**EXPLAIN HOW WE PRODUCE THE TEMPLATE** </span>\n"
   ]
  },
  {
   "cell_type": "markdown",
   "metadata": {},
   "source": [
    "#### 3. TMIFVP uses the SciPy cross-correlation function to match the two arrays: pattern & profile. \n",
    "\n",
    "* The cross-correlation function will see where and how the template fits within the profile. Maximum correlation is when they are the same size. \n",
    "* Returns an N-dimensional array containing a subset of the discrete linear cross-correlation."
   ]
  },
  {
   "cell_type": "markdown",
   "metadata": {},
   "source": [
    "#### 4. Select section of the profile that matches the template for each profile \"chunk\".\n",
    "\n",
    "Within each chunk:\n",
    "* Cut the user profile by n times the width of the feature. \n",
    "* Find the maximum of segmented profile, take the median of that array, shift pattern by the median (aka the \"lag\"). The lag tells you how far you need to shift the pattern to match the profile the most. Crop the signal to where it matches the template, then proceed to the Procrustes analysis.\n",
    "* Use Procrustes analysis to align template to the profile chunk. In statistics, Procrustes analysis is a form of statistical shape analysis used to analyse the distribution of a set of shapes. The function handles the scaling of the template matching for you. The name Procrustes (Greek: Προκρούστης) refers to a bandit from Greek mythology who made his victims fit his bed either by stretching their limbs or cutting them off (source: Wikipedia).\n",
    "!<center>![Text here](data/Prokrustes.jpg)</center>\n",
    "\n",
    "* Calculate the similarity. <span style=\"color:red\">**WHAT SPECIFICALLY ARE WE USING TO DO THAT**</span>.\n"
   ]
  },
  {
   "cell_type": "markdown",
   "metadata": {},
   "source": [
    "#### 5. Find best template-chunk pair for each profile, ie, the highest similarity score.\n",
    "* This produces a quality score from 0 - 1, resulting from matching the template and the chunk of the profile. "
   ]
  },
  {
   "cell_type": "markdown",
   "metadata": {},
   "source": [
    "#### 6. Cluster the similarity score?"
   ]
  },
  {
   "cell_type": "markdown",
   "metadata": {},
   "source": [
    "***"
   ]
  },
  {
   "cell_type": "markdown",
   "metadata": {},
   "source": [
    "### Background Reading\n",
    "\n",
    "Useful links:\n",
    "    \n",
    "https://docs.scipy.org/doc/scipy/reference/generated/scipy.signal.correlate.html\n",
    "    \n",
    "A short explanation of cross correlation and convolution (slides)\n",
    "\n",
    "https://users.cs.northwestern.edu/~pardo/courses/eecs352/lectures/MPM16-topic8-Convolution.pdf\n",
    "\n",
    "A slightly graphic description of the inspiration for the Procrustes analysis.\n",
    "\n",
    "https://en.wikipedia.org/wiki/Procrustes"
   ]
  },
  {
   "cell_type": "markdown",
   "metadata": {},
   "source": [
    "***\n",
    "Extra Notes\n"
   ]
  },
  {
   "cell_type": "markdown",
   "metadata": {},
   "source": [
    "Features with the same area but different shapes can pose a problem.\n",
    "\n",
    "Possibly add lon and latitude for global placement\n",
    "Add in photo.\n",
    "\n",
    "Will have a number for every profile. Cluster those numbers. Provides a dynamically adjustable threshold. \n",
    "What kind of vertical resolution for your profile do you  need? Do a cross correlation at increasing frequency. \n",
    "\n",
    "Eventually vertical segmentation to account for multiple matching features?\n",
    "\n",
    "***"
   ]
  }
 ],
 "metadata": {
  "kernelspec": {
   "display_name": "Python 3",
   "language": "python",
   "name": "python3"
  },
  "language_info": {
   "codemirror_mode": {
    "name": "ipython",
    "version": 3
   },
   "file_extension": ".py",
   "mimetype": "text/x-python",
   "name": "python",
   "nbconvert_exporter": "python",
   "pygments_lexer": "ipython3",
   "version": "3.7.3"
  }
 },
 "nbformat": 4,
 "nbformat_minor": 4
}
