{
 "cells": [
  {
   "cell_type": "markdown",
   "metadata": {},
   "source": [
    "# TMIFVP\n",
    "***\n",
    "## TMI for Fun Vertical Profiles\n",
    "\n",
    "### or\n",
    "\n",
    "## Template Matching to Identify Features in Vertical Profiles\n",
    "***"
   ]
  },
  {
   "cell_type": "markdown",
   "metadata": {},
   "source": [
    "#### Collaborators\n",
    "Paige Lavin: University of Washington\n",
    "\n",
    "Regina Lionheart: University of Washington\n",
    "\n",
    "Karina Ramos Musalem: University of British Columbia\n",
    "\n",
    "Kathy Gunn: University of Miami\n",
    "\n",
    "Daniel Wang: Virginia Institute of Marine Science, William & Mary\n",
    "\n",
    "Anna-Lena Deppenmeier: NCAR\n",
    "\n",
    "***"
   ]
  },
  {
   "cell_type": "markdown",
   "metadata": {},
   "source": [
    "### The Problem\n",
    "\n",
    "Tired of cruddy depth profiles? Want to know just how bad your instruments effed up their data collection? Then TMIVP, built upon the ideas of the visionary non-conformist Procrustes, is for you. \n",
    "\n",
    "Between instrumentation, environmental factors, and poor data acquisition methods, understanding and troubleshooting low-quality CTD profiles (along with other types of profile graphs) are a persistant issue in environmental science. TMIVP aims to quantify the difference between a template CTD profile and user-submitted data, clearly highlighting features for consistent classification of problematic or interesting attributes. More broadly, this pipeline could be used to analyze and compare many types of line graphs, including but not limited to:\n",
    "\n",
    "+ Michaelis-Menten population curves to characterize population growth\n",
    "+ Metabolomic and proteomic spectrographic peaks to understand analytical drift, matrix effects and other obscuring variations\n",
    "+ Environmental time series data to identify outliers\n",
    "\n",
    "Below, our gruesome, cut-to-fit-the-bed cutting pipeline.\n",
    "\n",
    "***"
   ]
  },
  {
   "cell_type": "markdown",
   "metadata": {},
   "source": [
    "### The Solution\n",
    "\n",
    "*This needs to be expanded upon once we have more specifics*\n",
    "Our group used **SPECIFICS GO HERE** to compare **OUR REAL DATA IN THIS REAL LOCATION** to a template profile created using **WHY DID WE PICK THIS KIND OF TEMPLATE? WHAT'S THE JUSTIFICATION?**. \n",
    "\n",
    "***"
   ]
  },
  {
   "cell_type": "markdown",
   "metadata": {},
   "source": [
    "### Steps to achieve Profile Nirvana\n",
    "1. User provides two 1-dimensional arrays to the interface, one temperature and one depth to visualize their profile. **ARE THESE FROM THE UPLOADED (net)CDF FILES?** These are combined to create a uniform table of depth and temperature.\n",
    "\n",
    "*Example Arrays: Uploaded from University of Haifa's THEMO Buoy located off the coast of Israel.*\n",
    "```\n",
    "temp = np.asarray(df.temperature)\n",
    "array([29.66, 27.62, 24.81, 22.81, 21.58, 21.15, 20.38])\n",
    "\n",
    "depth = np.asarry(df.depth)\n",
    "array([5, 23, 32, 50, 59, 68, 77])\n",
    "\n",
    "```"
   ]
  },
  {
   "cell_type": "markdown",
   "metadata": {},
   "source": [
    "*Example Table*\n",
    "\n",
    "Temp = x | Depth = y\n",
    "--- | --- \n",
    "29.66 | 5\n",
    "27.62 | 23\n",
    "24.81 | 32   \n",
    "22.81 | 50   \n",
    "21.58 | 59 \n",
    "21.15 | 68 \n",
    "20.38 | 77 "
   ]
  },
  {
   "cell_type": "markdown",
   "metadata": {},
   "source": [
    "2. TMIFVP provides a \"template\" shape that has typical numbers and dimensions **HOW DID WE DECIDE WHAT A CORRECT TEMPLATE IS?** Pick which one works best for your data according to location and season. **WILL WE HAVE THESE FILTERING PARAMETERS?**"
   ]
  },
  {
   "cell_type": "markdown",
   "metadata": {},
   "source": [
    "2. TMIFVP code matches the two by **TAKING AREAS UNDER THE CURVE, CONVOLVING IT AMONG THE USER PROFILE? ARE WE STILL DOING THE VERTICAL SEGMENTATION?**"
   ]
  },
  {
   "cell_type": "markdown",
   "metadata": {},
   "source": [
    "3. The code returns a correlation across the convolved profile.\n",
    "\n",
    "![optional caption text](data/haifa_depth.png)"
   ]
  },
  {
   "cell_type": "markdown",
   "metadata": {},
   "source": [
    "***\n",
    "Extra Notes\n",
    "\n",
    "Possibly add lon and latitude for global placement\n",
    "Add in photo.\n",
    "\n",
    "You have some template and profile and convolve it along the user profile\n",
    "Code will return correlation across convolved profile\n",
    "track cross-correlations between template and profile\n",
    "Will have a number for every profile. Cluster those numbers. Provides a dynamically adjustable threshold. \n",
    "What kind of vertical resolution for your profile do you  need? Do a cross correlation at increasing frequency. \n",
    "\n",
    "Procrustes takes care of the scaling for you. \n",
    "\n",
    "\n",
    "***"
   ]
  },
  {
   "cell_type": "code",
   "execution_count": null,
   "metadata": {},
   "outputs": [],
   "source": []
  }
 ],
 "metadata": {
  "kernelspec": {
   "display_name": "Python 3",
   "language": "python",
   "name": "python3"
  },
  "language_info": {
   "codemirror_mode": {
    "name": "ipython",
    "version": 3
   },
   "file_extension": ".py",
   "mimetype": "text/x-python",
   "name": "python",
   "nbconvert_exporter": "python",
   "pygments_lexer": "ipython3",
   "version": "3.7.3"
  }
 },
 "nbformat": 4,
 "nbformat_minor": 4
}
