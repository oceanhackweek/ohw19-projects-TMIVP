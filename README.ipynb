{
 "cells": [
  {
   "cell_type": "markdown",
   "metadata": {},
   "source": [
    "<h1><center>TMIFVP</center></h1>\n",
    "\n",
    "***\n",
    "\n",
    "<h1><center>TMI for Fun Vertical Profiles</center></h1>\n",
    "\n",
    "\n",
    "<h1><center>or</center></h1>\n",
    "\n",
    "<h1><center>Template Matching to Identify Features in Vertical Profiles</center></h1>\n",
    "\n",
    "***"
   ]
  },
  {
   "cell_type": "markdown",
   "metadata": {},
   "source": [
    "#### Collaborators\n",
    "Anna-Lena Deppenmeier: NCAR\n",
    "\n",
    "Daniel Wang: Virginia Institute of Marine Science, William & Mary\n",
    "\n",
    "Karina Ramos Musalem: University of British Columbia\n",
    "\n",
    "Kathy Gunn: University of Miami\n",
    "\n",
    "Paige Lavin: University of Washington\n",
    "\n",
    "\n",
    "Regina Lionheart: University of Washington\n",
    "\n",
    "***"
   ]
  },
  {
   "cell_type": "markdown",
   "metadata": {},
   "source": [
    "### The Problem\n",
    "\n",
    "Interested in finding a specific feature in your depth profiles? Want to know where those features are clustered? Then TMIVP, built upon the ideas of the visionary non-conformist Procrustes, is for you. \n",
    "\n",
    "Between mixed layer temperature profiles, various clines, and nutrient spikes, understanding and searching through CTD profiles (along with other types of profile graphs) are a persistant issue in environmental science. TMIVP aims to match and quantify the difference between a template profile and user-submitted data, clearly highlighting features for quality matching scores and location of problematic or interesting attributes. More broadly, this pipeline could be used to analyze and compare many types of graphs and profiles, including but not limited to:\n",
    "\n",
    "+ Michaelis-Menten population curves to characterize population growth\n",
    "+ Metabolomic and proteomic spectrographic peaks to understand analytical drift, matrix effects and other obscuring variations\n",
    "+ Environmental time series data to identify outliers\n",
    "\n",
    "Below, our cut-to-fit-the-bed template matching pipeline.\n",
    "\n",
    "***"
   ]
  },
  {
   "cell_type": "markdown",
   "metadata": {},
   "source": [
    "### The Solution - to be completed\n",
    "\n",
    "*This needs to be expanded upon once we have more specifics*\n",
    "Our group used **SPECIFICS GO HERE** to compare **OUR REAL DATA IN THIS REAL LOCATION** to a template profile created using **WHY DID WE PICK THIS KIND OF TEMPLATE? WHAT'S THE JUSTIFICATION?**. \n",
    "\n",
    "***"
   ]
  },
  {
   "cell_type": "markdown",
   "metadata": {},
   "source": [
    "### Steps to achieve Profile Nirvana\n",
    "1. User provides two 1-dimensional arrays to the interface, one temperature and one depth to visualize their profile. **ARE THESE FROM THE UPLOADED (net)CDF FILES?** These are combined to create a uniform table of depth and temperature.\n",
    "\n",
    "*Example Arrays: Uploaded from University of Haifa's THEMO Buoy located off the coast of Israel.*\n",
    "```\n",
    "temp = np.asarray(df.temperature)\n",
    "array([29.66, 27.62, 24.81, 22.81, 21.58, 21.15, 20.38])\n",
    "\n",
    "depth = np.asarry(df.depth)\n",
    "array([5, 23, 32, 50, 59, 68, 77])\n",
    "\n",
    "```"
   ]
  },
  {
   "cell_type": "markdown",
   "metadata": {},
   "source": [
    "*Example Table*\n",
    "\n",
    "Temp = x | Depth = y\n",
    "--- | --- \n",
    "29.66 | 5\n",
    "27.62 | 23\n",
    "24.81 | 32   \n",
    "22.81 | 50   \n",
    "21.58 | 59 \n",
    "21.15 | 68 \n",
    "20.38 | 77 "
   ]
  },
  {
   "cell_type": "markdown",
   "metadata": {},
   "source": [
    "2. TMIFVP provides a \"template\" shape that has typical numbers and dimensions for an oceanographic profile. This will act as a pattern matching feature for real data. \n",
    "**TEMPLATE SHOULD BE SMALLER- ADD JUSTIFY**"
   ]
  },
  {
   "cell_type": "markdown",
   "metadata": {},
   "source": [
    "3. TMIFVP uses the SciPy cross-correlation function to match the two arrays: pattern & profile. "
   ]
  },
  {
   "cell_type": "markdown",
   "metadata": {},
   "source": [
    "4. Select section of the profile that matches the template for each profile \"chunk\" **HOW TO CHOOSE CHUNKS? 2, 4, TOTAL LENGTH?**\n",
    "Within each chunk:\n",
    "* Use Procrustes to align template to the profile chunk. **ELABORATE ON PROCRUSTES**\n",
    "* Calculate the similarity. **WHAT SPECIFICALLY ARE WE USING**"
   ]
  },
  {
   "cell_type": "markdown",
   "metadata": {},
   "source": [
    "5. Find best template-chunk pair for each profile, ie, the highest similarity score."
   ]
  },
  {
   "cell_type": "markdown",
   "metadata": {},
   "source": [
    "***\n",
    "6. Cluster the similarity score?"
   ]
  },
  {
   "cell_type": "markdown",
   "metadata": {},
   "source": [
    "***"
   ]
  },
  {
   "cell_type": "markdown",
   "metadata": {},
   "source": [
    " \n",
    "Check out autocorrelation function on the slack, and we are using the \"same\" mode on autocorrelation. \n",
    "\n",
    "Quality score results from matching the template and the chunk of the profile."
   ]
  },
  {
   "cell_type": "markdown",
   "metadata": {},
   "source": [
    "Cut the user profile by n times the width of the feature. Set the maximum width as 100, subtract 25% off the length of each of those. twice, three times the template width set to user maximum. \n",
    "\n",
    "Sliding windows, mode same. It only slides within the length of the profile. The posiiton of the peak is in the correct location relative to the length of the profile, rather than the template. \n",
    "\n",
    "\n",
    "Maximum of profile, take the median of that array, shift pattern by the median, crop the signal to where it matches the template, then do the Procrustes scaling analysis.\n",
    "\n",
    "Template of signal. the CC function will see where it fits and how it fits. Maximum correlation is when they are the same size. When the template fits into the profile.\n",
    "\n",
    "Median of the array is the \"lag\", tells you how far you need to shift the pattern to match the profile the most. Shift the pattern by the lag and take the differnece between the pattern and profile. "
   ]
  },
  {
   "cell_type": "markdown",
   "metadata": {},
   "source": [
    "### Background Reading\n",
    "\n",
    "Useful links:\n",
    "    \n",
    "https://docs.scipy.org/doc/scipy/reference/generated/scipy.signal.correlate.html\n",
    "    \n",
    "A short explanation of cross correlation and convolution (slides)\n",
    "\n",
    "https://users.cs.northwestern.edu/~pardo/courses/eecs352/lectures/MPM16-topic8-Convolution.pdf\n",
    "\n",
    "A slightly graphic description of the inspiration for the Procrustes convolution.\n",
    "\n",
    "https://en.wikipedia.org/wiki/Procrustes"
   ]
  },
  {
   "cell_type": "markdown",
   "metadata": {},
   "source": [
    "***\n",
    "Extra Notes\n",
    "\n",
    "Find location with lag, first three maximum and shift with lags, then calculate the difference.\n",
    "\n",
    "Features with the same area but different shapes can pose a problem.\n",
    "\n",
    "Possibly add lon and latitude for global placement\n",
    "Add in photo.\n",
    "\n",
    "You have some template and profile and convolve it along the user profile\n",
    "Code will return correlation across convolved profile\n",
    "track cross-correlations between template and profile\n",
    "Will have a number for every profile. Cluster those numbers. Provides a dynamically adjustable threshold. \n",
    "What kind of vertical resolution for your profile do you  need? Do a cross correlation at increasing frequency. \n",
    "\n",
    "Procrustes takes care of the scaling for you. \n",
    "\n",
    "Eventually vertical segmentation to account for multiple matching features?\n",
    "\n",
    "***"
   ]
  },
  {
   "cell_type": "code",
   "execution_count": null,
   "metadata": {},
   "outputs": [],
   "source": []
  }
 ],
 "metadata": {
  "kernelspec": {
   "display_name": "Python 3",
   "language": "python",
   "name": "python3"
  },
  "language_info": {
   "codemirror_mode": {
    "name": "ipython",
    "version": 3
   },
   "file_extension": ".py",
   "mimetype": "text/x-python",
   "name": "python",
   "nbconvert_exporter": "python",
   "pygments_lexer": "ipython3",
   "version": "3.7.3"
  }
 },
 "nbformat": 4,
 "nbformat_minor": 4
}
