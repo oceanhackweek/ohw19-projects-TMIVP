{
 "cells": [
  {
   "cell_type": "code",
   "execution_count": 54,
   "metadata": {},
   "outputs": [],
   "source": [
    "# import libraries\n",
    "import numpy as np\n",
    "import scipy\n",
    "from scipy import signal\n",
    "import math\n",
    "import matplotlib as plt"
   ]
  },
  {
   "cell_type": "code",
   "execution_count": 52,
   "metadata": {},
   "outputs": [
    {
     "data": {
      "text/plain": [
       "(101, 2)"
      ]
     },
     "execution_count": 52,
     "metadata": {},
     "output_type": "execute_result"
    }
   ],
   "source": [
    "# feature_depth, 1D array, shape = (n, )\n",
    "feature_depth = np.arange(0, 101, 1)\n",
    "# print(feature_depth)\n",
    "\n",
    "# feature_temperature, 1D array, , shape = (n, )\n",
    "feature_temperature = 20*np.exp((-feature_depth/np.max(feature_depth)))\n",
    "# print(feature_temperature)\n",
    "\n",
    "# define feature windows, 2D array, shape = (n, 2)\n",
    "feature_window_temperature = np.vstack((feature_depth, feature_temperature)).T\n",
    "feature_window_temperature.shape\n",
    "# print(feature_window_temperature)"
   ]
  },
  {
   "cell_type": "code",
   "execution_count": 56,
   "metadata": {},
   "outputs": [],
   "source": [
    "# read in real profile data\n",
    "data_depth = np.arange(0,1001,1)\n",
    "data_temperature = np.ones(1001)\n",
    "# print(data_depth[20:23])\n",
    "# print((data_depth[300] - data_depth[200]))\n",
    "data_temperature[200:301] = 20*np.exp((-(data_depth[200:301]-data_depth[200])/(data_depth[300] - data_depth[200])))\n",
    "\n",
    "# plt.plot(data_depth, data_temperature)\n"
   ]
  },
  {
   "cell_type": "code",
   "execution_count": null,
   "metadata": {},
   "outputs": [],
   "source": [
    "# run cross-correlation between feature_window and data"
   ]
  }
 ],
 "metadata": {
  "kernelspec": {
   "display_name": "Python 3",
   "language": "python",
   "name": "python3"
  },
  "language_info": {
   "codemirror_mode": {
    "name": "ipython",
    "version": 3
   },
   "file_extension": ".py",
   "mimetype": "text/x-python",
   "name": "python",
   "nbconvert_exporter": "python",
   "pygments_lexer": "ipython3",
   "version": "3.7.3"
  }
 },
 "nbformat": 4,
 "nbformat_minor": 2
}
