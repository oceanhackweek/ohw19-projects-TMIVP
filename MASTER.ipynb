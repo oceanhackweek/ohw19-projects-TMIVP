{
 "cells": [
  {
   "cell_type": "markdown",
   "metadata": {},
   "source": [
    "<h1><center>TMIFVP</center></h1>\n",
    "\n",
    "***\n",
    "\n",
    "<h1><center>TMI for Fun Vertical Profiles</center></h1>\n",
    "\n",
    "\n",
    "<h1><center>or</center></h1>\n",
    "\n",
    "<h1><center>Template Matching to Identify Features in Vertical Profiles</center></h1>"
   ]
  },
  {
   "cell_type": "markdown",
   "metadata": {},
   "source": [
    "***\n",
    "\n",
    "#### Collaborators\n",
    "Anna-Lena Deppenmeier: NCAR\n",
    "\n",
    "Daniel Wang: Virginia Institute of Marine Science, William & Mary\n",
    "\n",
    "Karina Ramos Musalem: University of British Columbia\n",
    "\n",
    "Kathy Gunn: University of Miami\n",
    "\n",
    "Paige Lavin: University of Washington\n",
    "\n",
    "\n",
    "Regina Lionheart: University of Washington\n",
    "\n",
    "***"
   ]
  },
  {
   "cell_type": "markdown",
   "metadata": {},
   "source": [
    "### The Problem\n",
    "\n",
    "Interested in finding a specific feature in your depth profiles? Want to know where those features are clustered? Then TMIVP, built upon the ideas of the visionary non-conformist demigod Procrustes, is for you. \n",
    "\n",
    "Between unpredictable mixed layer temperature profiles, various clines, and nutrient spikes, understanding and searching through CTD profiles (along with other types of profiles) are a persistant issue in environmental science. TMIVP aims to match and quantify the difference between a template profile and user-submitted data, clearly highlighting features for quality matching scores and location of problematic or interesting attributes. More broadly, this pipeline could be used to analyze and compare many types of graphs and profiles, including but not limited to:\n",
    "\n",
    "+ Michaelis-Menten population curves to characterize population growth\n",
    "+ Metabolomic and proteomic spectrographic peaks to understand analytical drift, matrix effects and other obscuring variations\n",
    "+ Environmental time series data to identify outliers\n",
    "\n",
    "Below, our cut-to-fit-the-bed template matching pipeline.\n",
    "\n",
    "***"
   ]
  },
  {
   "cell_type": "markdown",
   "metadata": {},
   "source": [
    "### Steps to Achieve Profile Nirvana\n",
    "#### 1. User provides two 1-dimensional arrays of oceanographic data. In this example, the variables are temperature and depth. Those two arrays are returned as a table and visualized profiles. "
   ]
  },
  {
   "cell_type": "code",
   "execution_count": 1,
   "metadata": {},
   "outputs": [],
   "source": [
    "#Import all needed packages\n",
    "import numpy as np\n",
    "import matplotlib.pyplot as plt\n",
    "import scipy.io #only needed for reading in .mat file\n",
    "from sklearn.metrics import mean_squared_error\n",
    "from scipy.optimize import curve_fit"
   ]
  },
  {
   "cell_type": "code",
   "execution_count": 13,
   "metadata": {},
   "outputs": [],
   "source": [
    "# Load data\n",
    "\n",
    "mat = scipy.io.loadmat('NorthAtlanticCTDData_A05_AR01_1998.mat')\n",
    "t = np.squeeze(mat.get('t')) #temperature\n",
    "s = np.squeeze(mat.get('s')) #salinity\n",
    "z = np.squeeze(mat.get('z')) #depth\n",
    "lat = np.squeeze(mat.get('lat'))\n",
    "lon = np.squeeze(mat.get('lon'))\n",
    "\n",
    "## Visualize?"
   ]
  },
  {
   "cell_type": "markdown",
   "metadata": {},
   "source": [
    "#### 2. TMIFVP provides a \"template\" shape that has typical numbers and dimensions for an oceanographic profile. This will act as a pattern matching feature for real data. \n",
    "\n",
    "* The three templates currently used for matching are 1. Exponential, 2. Gaussian, and 3. Step profile. \n",
    "\n",
    "* Templates should be scaled towards the smaller end of the spectrum: the cross-correlation won't work if the template is larger than the profile. Additionally, if the template is too large it will smooth the entire profile. Instead of selecting small similar features, it may grab spaces between features that have a similar shape.\n",
    "\n",
    "* There are several template options in 2d array format. Below is an example of a possible template. Choose the template that you would expect to find in your data depending on location, season, etc. "
   ]
  },
  {
   "cell_type": "code",
   "execution_count": null,
   "metadata": {},
   "outputs": [],
   "source": []
  }
 ],
 "metadata": {
  "kernelspec": {
   "display_name": "Python 3",
   "language": "python",
   "name": "python3"
  },
  "language_info": {
   "codemirror_mode": {
    "name": "ipython",
    "version": 3
   },
   "file_extension": ".py",
   "mimetype": "text/x-python",
   "name": "python",
   "nbconvert_exporter": "python",
   "pygments_lexer": "ipython3",
   "version": "3.7.3"
  }
 },
 "nbformat": 4,
 "nbformat_minor": 4
}
