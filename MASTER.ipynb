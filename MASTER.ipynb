{
 "cells": [
  {
   "cell_type": "markdown",
   "metadata": {},
   "source": [
    "<h1><center>TMIFVP</center></h1>\n",
    "\n",
    "***\n",
    "\n",
    "<h1><center>TMI for Fun Vertical Profiles</center></h1>\n",
    "\n",
    "\n",
    "<h1><center>or</center></h1>\n",
    "\n",
    "<h1><center>Template Matching to Identify Features in Vertical Profiles</center></h1>"
   ]
  },
  {
   "cell_type": "markdown",
   "metadata": {},
   "source": [
    "***\n",
    "\n",
    "#### Collaborators\n",
    "Anna-Lena Deppenmeier: NCAR\n",
    "\n",
    "Daniel Wang: Virginia Institute of Marine Science, William & Mary\n",
    "\n",
    "Karina Ramos Musalem: University of British Columbia\n",
    "\n",
    "Kathy Gunn: University of Miami\n",
    "\n",
    "Paige Lavin: University of Washington\n",
    "\n",
    "\n",
    "Regina Lionheart: University of Washington\n",
    "\n",
    "***"
   ]
  },
  {
   "cell_type": "markdown",
   "metadata": {},
   "source": [
    "### The Problem\n",
    "\n",
    "Interested in finding a specific feature in your depth profiles? Want to know where those features are clustered? Then TMIVP, built upon the ideas of the visionary non-conformist demigod Procrustes, is for you. \n",
    "\n",
    "Between unpredictable mixed layer temperature profiles, various clines, and nutrient spikes, understanding and searching through CTD profiles (along with other types of profiles) are a persistant issue in environmental science. TMIVP aims to match and quantify the difference between a template profile and user-submitted data, clearly highlighting features for quality matching scores and location of problematic or interesting attributes. More broadly, this pipeline could be used to analyze and compare many types of graphs and profiles, including but not limited to:\n",
    "\n",
    "+ Michaelis-Menten population curves to characterize population growth\n",
    "+ Metabolomic and proteomic spectrographic peaks to understand analytical drift, matrix effects and other obscuring variations\n",
    "+ Environmental time series data to identify outliers\n",
    "\n",
    "Below, our cut-to-fit-the-bed template matching pipeline.\n",
    "\n",
    "***"
   ]
  },
  {
   "cell_type": "markdown",
   "metadata": {},
   "source": [
    "### Steps to Achieve Profile Nirvana\n",
    "\n",
    "***\n",
    "\n",
    "#### 1. User provides two 1-dimensional arrays of oceanographic data. In this example, the variables are temperature and depth. Those two arrays are returned as a table and visualized profiles. "
   ]
  },
  {
   "cell_type": "code",
   "execution_count": 2,
   "metadata": {},
   "outputs": [],
   "source": [
    "import template_matching as tm\n",
    "import numpy as np\n",
    "import matplotlib.pyplot as plt\n",
    "import scipy.io  # only needed for reading in .mat file\n",
    "from sklearn.metrics import mean_squared_error\n",
    "from scipy.optimize import curve_fit"
   ]
  },
  {
   "cell_type": "code",
   "execution_count": 3,
   "metadata": {},
   "outputs": [],
   "source": [
    "# Load data\n",
    "mat = scipy.io.loadmat('NorthAtlanticCTDData_A05_AR01_1998.mat')\n",
    "t = np.squeeze(mat.get('t'))  # temperature\n",
    "s = np.squeeze(mat.get('s'))  # salinity\n",
    "z = np.squeeze(mat.get('z'))  # depth\n",
    "lat = np.squeeze(mat.get('lat'))\n",
    "lon = np.squeeze(mat.get('lon'))\n",
    "nstations = len(lat)\n",
    "#del(s, mat)  # clean up workspace\n",
    "\n",
    "## Visualize?"
   ]
  },
  {
   "cell_type": "markdown",
   "metadata": {},
   "source": [
    "***\n",
    "\n",
    "#### 2. TMIFVP provides a set of templates representing common features in oceanographic profiles. The code then searches all of the user-provided profiles for features matching this template. \n",
    "\n",
    "* The three templates currently used for matching are 1. Exponential, 2. Gaussian, and 3. Step Profile. The user should choose a template that they would expect to find in their data depending on location, season, etc. \n",
    "\n",
    "* Templates are scaled towards the smaller end of the spectrum: the cross-correlation won't work if the template is larger than the profile. Additionally, if the template is too large it will smooth the entire profile. Instead of selecting small similar features, it may grab spaces between features that have a similar shape."
   ]
  },
  {
   "cell_type": "markdown",
   "metadata": {},
   "source": [
    "## Add images of templates here?"
   ]
  },
  {
   "cell_type": "code",
   "execution_count": 4,
   "metadata": {},
   "outputs": [],
   "source": [
    "# template_num = 1  # exponential\n",
    "template_num = 2  # gaussian\n",
    "# template_num = 3  # step\n",
    "\n",
    "# List of scale factors of template size to try\n",
    "scale_factors = [1, 2, 3, 4, 5]"
   ]
  },
  {
   "cell_type": "markdown",
   "metadata": {},
   "source": [
    "#### 3. TMIFVP uses the SciPy cross-correlation function to find the location of the best match to the template within the profile. \n",
    "\n",
    "* The cross-correlation function will find the location of a possible matcxhing pattern. Maximum correlation occurs when they are the same size. \n",
    "* Profile is segmented depending on where the maximum correlation occurs. \n"
   ]
  },
  {
   "cell_type": "markdown",
   "metadata": {},
   "source": [
    "<p align=\"center\">\n",
    "  <img src=data/template_match.png>\n",
    "</p>"
   ]
  },
  {
   "cell_type": "markdown",
   "metadata": {},
   "source": [
    "#### 4. Optimize template to match the chosen segment.\n",
    "\n",
    "For each segment, transform and align the template to best match each profile:\n",
    "\n",
    "* In case of Gaussian or exponential templates, use a curve-fit function to find the best fit. \n",
    "\n",
    "<p align=\"center\">\n",
    "  <img src=data/Gaussian_fit.png\n",
    "  style=\"width:500px;height:400px;\">\n",
    "</p>\n",
    "\n",
    "<p align=\"center\">\n",
    "  <img src=data/exponentialfitexample.png\n",
    "  style=\"width:400px;height:300px;\">\n",
    "</p>\n",
    "\n",
    "\n",
    "* In the event of a step template: Use Procrustes analysis to align template to the profile chunk. In statistics, Procrustes analysis is a form of statistical shape analysis used to analyse the distribution of a set of shapes. The function handles the scaling of the template matching for you. The name Procrustes (Greek: Προκρούστης) refers to a bandit from Greek mythology who made his victims fit his bed either by stretching their limbs or cutting them off (source: Wikipedia).\n",
    "<p align=\"center\">\n",
    "  <img src=data/Prokrustes.jpg>\n",
    "</p>\n",
    "\n",
    "For all templates, calculate the similarity using the root means square error, or RMSE. RMSE is a frequently used measure of the differences between values (sample or population values) predicted by a model or an estimator and the values observed. The RMSE represents the square root of the second sample moment of the differences between predicted values and observed values or the quadratic mean of these differences (source: Wikipedia)."
   ]
  },
  {
   "cell_type": "code",
   "execution_count": 5,
   "metadata": {},
   "outputs": [],
   "source": [
    "MSE = np.zeros((nstations, 1))\n",
    "scale_factor_best = np.zeros((nstations, 1))\n",
    "for i in range(nstations):\n",
    "    t_prof = t[:, i]\n",
    "    z_prof = z[:, i]\n",
    "    t_prof = t_prof[np.isfinite(t_prof)]\n",
    "    z_prof = z_prof[np.isfinite(z_prof)]\n",
    "    MSE_sf = np.zeros((len(scale_factors), 1))\n",
    "    for j, scale_factor in zip(range(len(scale_factors)), scale_factors):\n",
    "        chunk_value, chunk_depth = tm.find_correlation(t_prof, z_prof,\n",
    "                                                       template_num,\n",
    "                                                       scale_factor)\n",
    "        if template_num == 1:\n",
    "            # For now only using top 60 pts because chunk is causing errors\n",
    "            MSE_sf[j] = tm.fit_exp(t_prof[:60], z_prof[:60])\n",
    "        elif template_num == 2:\n",
    "            MSE_sf[j] = tm.fit_gauss(chunk_value, chunk_depth)\n",
    "        else:\n",
    "            print('Function for fitting this template is not yet available')\n",
    "        #print(i)\n",
    "    try:\n",
    "        scale_factor_best[i] = scale_factors[np.nanargmin(MSE_sf)]\n",
    "        MSE[i] = np.nanmin(MSE_sf)\n",
    "    except ValueError:\n",
    "        MSE[i] = np.nan"
   ]
  },
  {
   "cell_type": "code",
   "execution_count": 6,
   "metadata": {},
   "outputs": [
    {
     "data": {
      "image/png": "[encoded data removed]",
      "text/plain": [
       "<Figure size 432x288 with 1 Axes>"
      ]
     },
     "metadata": {
      "needs_background": "light"
     },
     "output_type": "display_data"
    },
    {
     "data": {
      "image/png": "[encoded data removed]",
      "text/plain": [
       "<Figure size 432x288 with 1 Axes>"
      ]
     },
     "metadata": {
      "needs_background": "light"
     },
     "output_type": "display_data"
    }
   ],
   "source": [
    "plt.scatter(np.arange(nstations), np.sqrt(MSE))\n",
    "plt.xlabel('Profile')\n",
    "plt.ylabel('RMSE')\n",
    "plt.show()\n",
    "\n",
    "if template_num == 2:    \n",
    "    plt.scatter(np.arange(nstations), scale_factor_best)\n",
    "    plt.xlabel('Profile')\n",
    "    plt.ylabel('Scale Factor')\n",
    "    plt.show()"
   ]
  },
  {
   "cell_type": "code",
   "execution_count": null,
   "metadata": {},
   "outputs": [],
   "source": []
  }
 ],
 "metadata": {
  "kernelspec": {
   "display_name": "Python 3",
   "language": "python",
   "name": "python3"
  },
  "language_info": {
   "codemirror_mode": {
    "name": "ipython",
    "version": 3
   },
   "file_extension": ".py",
   "mimetype": "text/x-python",
   "name": "python",
   "nbconvert_exporter": "python",
   "pygments_lexer": "ipython3",
   "version": "3.7.3"
  }
 },
 "nbformat": 4,
 "nbformat_minor": 4
}
