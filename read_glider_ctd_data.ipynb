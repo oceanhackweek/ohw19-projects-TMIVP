{
 "cells": [
  {
   "cell_type": "code",
   "execution_count": 21,
   "metadata": {},
   "outputs": [],
   "source": [
    "from scipy import signal\n",
    "from scipy.io import loadmat\n",
    "import numpy as np\n",
    "import matplotlib.pyplot as plt\n",
    "%matplotlib inline"
   ]
  },
  {
   "cell_type": "code",
   "execution_count": 42,
   "metadata": {},
   "outputs": [],
   "source": [
    "#Load data from matlab file\n",
    "mat_data = loadmat('data_glider_ctd_casts.mat', squeeze_me = True)\n",
    "\n",
    "glider_ctd_profiles = mat_data['glider_ctd_profiles']\n"
   ]
  },
  {
   "cell_type": "code",
   "execution_count": 40,
   "metadata": {},
   "outputs": [],
   "source": [
    "# get varaibles from all vertical profiles. \n",
    "# variables are stored in tuples; each variable stores 131 arrays.\n",
    "\n",
    "# z in m, values are negative\n",
    "glider_ctd_profiles_z = glider_ctd_profiles['z'][()][:]\n",
    "\n",
    "# glider_ctd_profiles_potential_temperature[1]\n",
    "\n",
    "# temperature in C\n",
    "glider_ctd_profiles_potential_temperature = glider_ctd_profiles['potential_temperature'][()][:]\n",
    "glider_ctd_profiles_conservative_temperature = glider_ctd_profiles['conservative_temperature'][()][:]\n",
    "\n",
    "# salinity\n",
    "glider_ctd_profiles_practical_salinity = glider_ctd_profiles['practical_salinity'][()][:]\n",
    "glider_ctd_profiles_absolute_salinity = glider_ctd_profiles['absolute_salinity'][()][:]\n",
    "\n",
    "# density in kg/m^3\n",
    "glider_ctd_profiles_density = glider_ctd_profiles['density'][()][:]\n",
    "glider_ctd_profiles_density_anomaly = glider_ctd_profiles['density_anomaly'][()][:]"
   ]
  }
 ],
 "metadata": {
  "kernelspec": {
   "display_name": "Python 3",
   "language": "python",
   "name": "python3"
  },
  "language_info": {
   "codemirror_mode": {
    "name": "ipython",
    "version": 3
   },
   "file_extension": ".py",
   "mimetype": "text/x-python",
   "name": "python",
   "nbconvert_exporter": "python",
   "pygments_lexer": "ipython3",
   "version": "3.7.3"
  }
 },
 "nbformat": 4,
 "nbformat_minor": 2
}
